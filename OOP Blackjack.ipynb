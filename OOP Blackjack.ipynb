{
 "cells": [
  {
   "cell_type": "code",
   "execution_count": 6,
   "id": "6c2bfbcb",
   "metadata": {},
   "outputs": [],
   "source": [
    "import random"
   ]
  },
  {
   "cell_type": "code",
   "execution_count": 7,
   "id": "bdd73aaf",
   "metadata": {},
   "outputs": [],
   "source": [
    "class Card:\n",
    "    def __init__(self, suits, faces, values, is_ace):\n",
    "        self.suits = ['Spades', 'Clubs', 'Hearts', 'Diamonds']\n",
    "        self.faces = ['A', '2', '3', '4', '5', '6', '7', '8', '9', '10', 'J', 'Q', 'K'][value -1]\n",
    "        self.values = values = [11, 2, 3, 4, 5, 6, 7, 8, 9, 10, 10, 10, 10]\n",
    "        self.is_ace = is_ace\n",
    "        \n"
   ]
  },
  {
   "cell_type": "code",
   "execution_count": null,
   "id": "b7e0485d",
   "metadata": {},
   "outputs": [],
   "source": [
    "class Deck:\n",
    "    def __init__(self):\n",
    "        self.cards = []\n",
    "        \n",
    "    def shuffle(self):\n",
    "        for face in len(faces):\n",
    "            for suit in len(suits):\n",
    "                self.cards.append(Card(face, suit))\n",
    "                \n",
    "    def draw(self, iteration):\n",
    "        cards = []\n",
    "        for i in range(iteration):\n",
    "            card = random.choice(self.cards)\n",
    "            self.cards.remove(card)\n",
    "            cards.append(card)\n",
    "        return cards\n",
    "    \n",
    "    def count(self):\n",
    "        return len(self.cards)"
   ]
  },
  {
   "cell_type": "code",
   "execution_count": null,
   "id": "c15f468a",
   "metadata": {},
   "outputs": [],
   "source": [
    "class Player:\n",
    "    def __init__(self, isDealer, deck):\n",
    "        self.cards = []\n",
    "        self.isDealer = isDealser\n",
    "        self.deck = deck\n",
    "        self.score = 0\n",
    "        \n",
    "    def hit(self):\n",
    "        self.cards.extend(self.deck.draw(1))\n",
    "        self.check_score()\n",
    "        if self.score > 21:\n",
    "            return 1\n",
    "        return 0\n",
    "    \n",
    "    def deal(self):\n",
    "        self.cards.extend(self.deck.draw(2))\n",
    "        self.check_score()\n",
    "        if self.score == 21\n",
    "            return 1\n",
    "        return 0\n",
    "\n",
    "    def check_score(self):\n",
    "        a_counter = 0\n",
    "        self.score = 0\n",
    "        for card in self.cards:\n",
    "            for value in self.values:\n",
    "                if value == 11:\n",
    "                    a_counter += 1\n",
    "                self.score += value\n",
    "                \n",
    "        while a_counter != 0 and self.score > 21:\n",
    "            a_counter -= 1\n",
    "            self.score -= 10\n",
    "        return self.score\n",
    "    \n",
    "    def show(self):\n",
    "        if self.isDealer:\n",
    "            print(\"Dealer's Cards\")\n",
    "        else:\n",
    "            print(\"Player's Cards\")\n",
    "        for i in self.cards:\n",
    "            i.show\n",
    "            "
   ]
  }
 ],
 "metadata": {
  "kernelspec": {
   "display_name": "Python 3 (ipykernel)",
   "language": "python",
   "name": "python3"
  },
  "language_info": {
   "codemirror_mode": {
    "name": "ipython",
    "version": 3
   },
   "file_extension": ".py",
   "mimetype": "text/x-python",
   "name": "python",
   "nbconvert_exporter": "python",
   "pygments_lexer": "ipython3",
   "version": "3.11.4"
  }
 },
 "nbformat": 4,
 "nbformat_minor": 5
}
