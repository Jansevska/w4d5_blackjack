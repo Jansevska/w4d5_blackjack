{
 "cells": [
  {
   "cell_type": "code",
   "execution_count": 69,
   "id": "ec7490d1",
   "metadata": {},
   "outputs": [
    {
     "name": "stdout",
     "output_type": "stream",
     "text": [
      "['clubs', 'J']\n"
     ]
    }
   ],
   "source": [
    "import random\n",
    "\n",
    "cards = []\n",
    "suits = ['spades', 'clubs', 'hearts', 'diamonds']\n",
    "rank = ['A', '2', '3', '4', '5', '6', '7', '8', '9', '10', 'J', 'Q', 'K']\n",
    "values = [{'A':11}, {'2':2}, {'3':3}, {'4':4}, {'5':5}, {'6':6}, {'7':7}, {'8':8}, {'9':9}, {'10':10}, {'J':10}, {'Q':10}, {'K':10}]\n",
    "\n",
    "for suit in suits:\n",
    "    for rank in ranks:\n",
    "        cards.append([suit, rank])\n",
    "\n",
    "def shuffle():\n",
    "    random.shuffle(cards)\n",
    "    \n",
    "def deal(num_of_cards):\n",
    "    cards_dealt = []\n",
    "    for x in range(num_of_cards):\n",
    "        card = cards.pop()\n",
    "        cards_dealt.append(card)\n",
    "    return cards_dealt\n",
    "\n",
    "\n",
    "shuffle()\n",
    "card = deal(1)[0]\n",
    "print(card)"
   ]
  },
  {
   "cell_type": "code",
   "execution_count": null,
   "id": "553f2b94",
   "metadata": {},
   "outputs": [],
   "source": []
  },
  {
   "cell_type": "code",
   "execution_count": 85,
   "id": "aa92fd73",
   "metadata": {},
   "outputs": [
    {
     "name": "stdout",
     "output_type": "stream",
     "text": [
      "monster health before calling the hero attack method\n",
      "100\n",
      "monster health after calling the hero attack method\n",
      "100\n"
     ]
    }
   ],
   "source": [
    "class Monster:\n",
    "    def __init__(self, health, energy):\n",
    "        self.health = health\n",
    "        self.energy = energy\n",
    "        \n",
    "    def update_energy(self, amount):\n",
    "        self.energy += amount\n",
    "        \n",
    "    def get_damage(self, amount):\n",
    "        self.health -= amount\n",
    "        \n",
    "\n",
    "class Hero:\n",
    "    def __init__(self, damage, monster):\n",
    "        self.damage = damage\n",
    "        self.monster = monster\n",
    "        \n",
    "    def attack(self):\n",
    "        self.monster.get_damage(self.damage)\n",
    "\n",
    "monster = Monster(health = 100, energy = 50)\n",
    "print(\"monster health before calling the hero attack method\")\n",
    "print(monster.health)\n",
    "hero = Hero(damage =15, monster = monster)\n",
    "print(\"monster health after calling the hero attack method\")\n",
    "print(monster.health)"
   ]
  },
  {
   "cell_type": "code",
   "execution_count": null,
   "id": "9ef0f038",
   "metadata": {},
   "outputs": [],
   "source": []
  }
 ],
 "metadata": {
  "kernelspec": {
   "display_name": "Python 3 (ipykernel)",
   "language": "python",
   "name": "python3"
  },
  "language_info": {
   "codemirror_mode": {
    "name": "ipython",
    "version": 3
   },
   "file_extension": ".py",
   "mimetype": "text/x-python",
   "name": "python",
   "nbconvert_exporter": "python",
   "pygments_lexer": "ipython3",
   "version": "3.11.4"
  }
 },
 "nbformat": 4,
 "nbformat_minor": 5
}
